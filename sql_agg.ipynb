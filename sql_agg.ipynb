{
 "cells": [
  {
   "cell_type": "code",
   "execution_count": 1,
   "metadata": {},
   "outputs": [
    {
     "data": {
      "text/html": [
       "<div>\n",
       "<style scoped>\n",
       "    .dataframe tbody tr th:only-of-type {\n",
       "        vertical-align: middle;\n",
       "    }\n",
       "\n",
       "    .dataframe tbody tr th {\n",
       "        vertical-align: top;\n",
       "    }\n",
       "\n",
       "    .dataframe thead th {\n",
       "        text-align: right;\n",
       "    }\n",
       "</style>\n",
       "<table border=\"1\" class=\"dataframe\">\n",
       "  <thead>\n",
       "    <tr style=\"text-align: right;\">\n",
       "      <th></th>\n",
       "      <th>Count</th>\n",
       "    </tr>\n",
       "  </thead>\n",
       "  <tbody>\n",
       "    <tr>\n",
       "      <th>0</th>\n",
       "      <td>87</td>\n",
       "    </tr>\n",
       "  </tbody>\n",
       "</table>\n",
       "</div>"
      ],
      "text/plain": [
       "   Count\n",
       "0     87"
      ]
     },
     "execution_count": 1,
     "metadata": {},
     "output_type": "execute_result"
    }
   ],
   "source": [
    "#| include: false\n",
    "\n",
    "import duckdb\n",
    "import pandas as pd\n",
    "%load_ext sql\n",
    "\n",
    "%config SqlMagic.autopandas = True\n",
    "%config SqlMagic.feedback = False\n",
    "%config SqlMagic.displaycon = False\n",
    "\n",
    "# %sql duckdb:///:memory:\n",
    "conn = duckdb.connect()\n",
    "%sql conn --alias duckdb-native\n",
    "\n",
    "%sql CREATE OR REPLACE TABLE user_actions AS SELECT * FROM read_csv('00_data/sql/user_actions.csv', header=True, columns={'user_id': 'INT', 'order_id': 'INT', 'action': 'VARCHAR', 'time': 'TIMESTAMP'}, timestampformat='%d/%m/%y %H:%M');\n",
    "%sql CREATE OR REPLACE TABLE courier_actions AS SELECT * FROM read_csv('00_data/sql/courier_actions.csv', header=True, columns={'courier_id': 'INT', 'order_id': 'INT', 'action': 'VARCHAR', 'time': 'TIMESTAMP'}, timestampformat='%d/%m/%y %H:%M');\n",
    "%sql CREATE OR REPLACE TABLE orders AS SELECT * FROM read_csv('00_data/sql/orders.csv', header=True, columns={'order_id': 'INT', 'creation_time': 'TIMESTAMP', 'product_ids': 'INT[]'}, timestampformat='%d/%m/%y %H:%M');\n",
    "%sql CREATE OR REPLACE TABLE users AS SELECT * FROM read_csv('00_data/sql/users.csv', header=True, columns={'user_id': 'INT', 'birth_date': 'DATE', 'sex': 'VARCHAR'}, dateformat='%d/%m/%y');\n",
    "%sql CREATE OR REPLACE TABLE couriers AS SELECT * FROM read_csv('00_data/sql/couriers.csv', header=True, columns={'courier_id': 'INT', 'birth_date': 'DATE', 'sex': 'VARCHAR'}, dateformat='%d/%m/%y');\n",
    "%sql CREATE OR REPLACE TABLE products AS SELECT * FROM read_csv('00_data/sql/products.csv', header=True, columns={'product_id': 'INT', 'name': 'VARCHAR', 'price': 'DOUBLE'});"
   ]
  },
  {
   "attachments": {},
   "cell_type": "markdown",
   "metadata": {},
   "source": [
    "# Агрегація даних\n",
    "\n",
    "## Унікальні значення: `DISTINCT`\n",
    "\n",
    "Ключове слово `DISTINCT` дає змогу відбирати унікальні записи, тобто позбавлятися всіх дублікатів у таблиці.\n",
    "\n",
    "Вказується `DISTINCT` одразу після `SELECT`. Для виведення унікальних значень в одній колонці можна скласти наступний запит:\n",
    "\n",
    "```sql\n",
    "SELECT DISTINCT column\n",
    "FROM table\n",
    "```\n",
    "\n",
    "Давайте спершу вирішимо просте завдання."
   ]
  },
  {
   "attachments": {},
   "cell_type": "markdown",
   "metadata": {},
   "source": [
    ":::: {.callout-note icon=false}\n",
    "## \n",
    "::: {#exr-sql-agg-01}\n",
    "<br>\n",
    "Виведіть **ID всіх унікальних користувачів** з таблиці `user_actions`. Результат відсортуйте за зростанням id.\n",
    "\n",
    "Поле у результуючій таблиці: `user_id`\n",
    ":::\n",
    "::::"
   ]
  },
  {
   "cell_type": "code",
   "execution_count": 2,
   "metadata": {},
   "outputs": [
    {
     "data": {
      "text/html": [
       "<div>\n",
       "<style scoped>\n",
       "    .dataframe tbody tr th:only-of-type {\n",
       "        vertical-align: middle;\n",
       "    }\n",
       "\n",
       "    .dataframe tbody tr th {\n",
       "        vertical-align: top;\n",
       "    }\n",
       "\n",
       "    .dataframe thead th {\n",
       "        text-align: right;\n",
       "    }\n",
       "</style>\n",
       "<table border=\"1\" class=\"dataframe\">\n",
       "  <thead>\n",
       "    <tr style=\"text-align: right;\">\n",
       "      <th></th>\n",
       "      <th>user_id</th>\n",
       "    </tr>\n",
       "  </thead>\n",
       "  <tbody>\n",
       "    <tr>\n",
       "      <th>0</th>\n",
       "      <td>1</td>\n",
       "    </tr>\n",
       "    <tr>\n",
       "      <th>1</th>\n",
       "      <td>2</td>\n",
       "    </tr>\n",
       "    <tr>\n",
       "      <th>2</th>\n",
       "      <td>3</td>\n",
       "    </tr>\n",
       "    <tr>\n",
       "      <th>3</th>\n",
       "      <td>4</td>\n",
       "    </tr>\n",
       "    <tr>\n",
       "      <th>4</th>\n",
       "      <td>5</td>\n",
       "    </tr>\n",
       "    <tr>\n",
       "      <th>...</th>\n",
       "      <td>...</td>\n",
       "    </tr>\n",
       "    <tr>\n",
       "      <th>21396</th>\n",
       "      <td>21398</td>\n",
       "    </tr>\n",
       "    <tr>\n",
       "      <th>21397</th>\n",
       "      <td>21399</td>\n",
       "    </tr>\n",
       "    <tr>\n",
       "      <th>21398</th>\n",
       "      <td>21400</td>\n",
       "    </tr>\n",
       "    <tr>\n",
       "      <th>21399</th>\n",
       "      <td>21401</td>\n",
       "    </tr>\n",
       "    <tr>\n",
       "      <th>21400</th>\n",
       "      <td>21402</td>\n",
       "    </tr>\n",
       "  </tbody>\n",
       "</table>\n",
       "<p>21401 rows × 1 columns</p>\n",
       "</div>"
      ],
      "text/plain": [
       "       user_id\n",
       "0            1\n",
       "1            2\n",
       "2            3\n",
       "3            4\n",
       "4            5\n",
       "...        ...\n",
       "21396    21398\n",
       "21397    21399\n",
       "21398    21400\n",
       "21399    21401\n",
       "21400    21402\n",
       "\n",
       "[21401 rows x 1 columns]"
      ]
     },
     "execution_count": 2,
     "metadata": {},
     "output_type": "execute_result"
    }
   ],
   "source": [
    "#| code-fold: true\n",
    "#| code-summary: \"Рішення\"\n",
    "\n",
    "%%sql\n",
    "SELECT DISTINCT user_id\n",
    "FROM   user_actions\n",
    "ORDER BY user_id"
   ]
  },
  {
   "attachments": {},
   "cell_type": "markdown",
   "metadata": {},
   "source": [
    "Ключове слово `DISTINCT` можна застосовувати не тільки до однієї колонки, а й одразу до кількох.\n",
    "\n",
    "Наприклад, запит для двох колонок виглядатиме так:\n",
    "\n",
    "```sql\n",
    "SELECT DISTINCT column_1, column_2\n",
    "FROM table\n",
    "```\n",
    "\n",
    "У такому випадку запит поверне **унікальні комбінації значень** в колонках."
   ]
  },
  {
   "attachments": {},
   "cell_type": "markdown",
   "metadata": {},
   "source": [
    ":::: {.callout-note icon=false}\n",
    "## \n",
    "::: {#exr-sql-agg-02}\n",
    "<br>\n",
    "Застосуйте `DISTINCT` відразу до двох колонок таблиці `courier_actions` та відберіть унікальні пари значень `courier_id` та `order_id`.\n",
    "\n",
    "Результат відсортуйте спочатку за зростанням id кур'єра, потім за зростанням id замовлення.\n",
    "\n",
    "Поля у результуючій таблиці: `courier_id`, `order_id`\n",
    ":::\n",
    "::::"
   ]
  },
  {
   "cell_type": "code",
   "execution_count": 3,
   "metadata": {},
   "outputs": [
    {
     "data": {
      "text/html": [
       "<div>\n",
       "<style scoped>\n",
       "    .dataframe tbody tr th:only-of-type {\n",
       "        vertical-align: middle;\n",
       "    }\n",
       "\n",
       "    .dataframe tbody tr th {\n",
       "        vertical-align: top;\n",
       "    }\n",
       "\n",
       "    .dataframe thead th {\n",
       "        text-align: right;\n",
       "    }\n",
       "</style>\n",
       "<table border=\"1\" class=\"dataframe\">\n",
       "  <thead>\n",
       "    <tr style=\"text-align: right;\">\n",
       "      <th></th>\n",
       "      <th>courier_id</th>\n",
       "      <th>order_id</th>\n",
       "    </tr>\n",
       "  </thead>\n",
       "  <tbody>\n",
       "    <tr>\n",
       "      <th>0</th>\n",
       "      <td>1</td>\n",
       "      <td>98</td>\n",
       "    </tr>\n",
       "    <tr>\n",
       "      <th>1</th>\n",
       "      <td>1</td>\n",
       "      <td>194</td>\n",
       "    </tr>\n",
       "    <tr>\n",
       "      <th>2</th>\n",
       "      <td>1</td>\n",
       "      <td>233</td>\n",
       "    </tr>\n",
       "    <tr>\n",
       "      <th>3</th>\n",
       "      <td>1</td>\n",
       "      <td>522</td>\n",
       "    </tr>\n",
       "    <tr>\n",
       "      <th>4</th>\n",
       "      <td>1</td>\n",
       "      <td>1251</td>\n",
       "    </tr>\n",
       "    <tr>\n",
       "      <th>...</th>\n",
       "      <td>...</td>\n",
       "      <td>...</td>\n",
       "    </tr>\n",
       "    <tr>\n",
       "      <th>59590</th>\n",
       "      <td>3166</td>\n",
       "      <td>56165</td>\n",
       "    </tr>\n",
       "    <tr>\n",
       "      <th>59591</th>\n",
       "      <td>3166</td>\n",
       "      <td>56940</td>\n",
       "    </tr>\n",
       "    <tr>\n",
       "      <th>59592</th>\n",
       "      <td>3167</td>\n",
       "      <td>56176</td>\n",
       "    </tr>\n",
       "    <tr>\n",
       "      <th>59593</th>\n",
       "      <td>3167</td>\n",
       "      <td>58039</td>\n",
       "    </tr>\n",
       "    <tr>\n",
       "      <th>59594</th>\n",
       "      <td>3167</td>\n",
       "      <td>58774</td>\n",
       "    </tr>\n",
       "  </tbody>\n",
       "</table>\n",
       "<p>59595 rows × 2 columns</p>\n",
       "</div>"
      ],
      "text/plain": [
       "       courier_id  order_id\n",
       "0               1        98\n",
       "1               1       194\n",
       "2               1       233\n",
       "3               1       522\n",
       "4               1      1251\n",
       "...           ...       ...\n",
       "59590        3166     56165\n",
       "59591        3166     56940\n",
       "59592        3167     56176\n",
       "59593        3167     58039\n",
       "59594        3167     58774\n",
       "\n",
       "[59595 rows x 2 columns]"
      ]
     },
     "execution_count": 3,
     "metadata": {},
     "output_type": "execute_result"
    }
   ],
   "source": [
    "#| code-fold: true\n",
    "#| code-summary: \"Рішення\"\n",
    "\n",
    "%%sql\n",
    "SELECT DISTINCT courier_id,\n",
    "                order_id\n",
    "FROM   courier_actions\n",
    "ORDER BY courier_id, order_id"
   ]
  },
  {
   "attachments": {},
   "cell_type": "markdown",
   "metadata": {},
   "source": [
    "## Базова агрегація: `COUNT`, `SUM`, `AVG`, `MIN`, `MAX`\n",
    "\n",
    "Агрегатними функціями називають функції, які обробляють певний набір спостережень і повертають одне узагальнююче значення. Якщо ви коли-небудь працювали в **Excel**, то, напевно, стикалися з підрахунком суми або максимального/мінімального значення по стовпцю — йдеться саме про це.\n",
    "\n",
    "Ось кілька прикладів таких функцій у **SQL**:\n",
    "\n",
    "- `COUNT`: повертає кількість значень у колонці;\n",
    "- `SUM`: обчислює суму значень;\n",
    "- `AVG`: обчислює середнє значення;\n",
    "- `MAX`: обчислює максимальне значення;\n",
    "- `MIN`: обчислює мінімальне значення.\n",
    "\n",
    "**Приклад**:\n",
    "\n",
    "```sql\n",
    "SELECT COUNT(column) AS count\n",
    "FROM table\n",
    "\n",
    "\n",
    "SELECT SUM(column_1) AS sum,\n",
    "       AVG(column_2) AS average\n",
    "FROM table\n",
    "```\n",
    "\n",
    "Зверніть увагу, що деякі з вищезгаданих функцій не можна застосовувати до колонок з текстом, датами та часом, оскільки не цілком зрозуміло, що, наприклад, означає знайти середнє значення або суму найменувань товарів.\n",
    "\n",
    "У той самий час «максимальне» найменування товару обчислити можна — функція MAX шукатиме найбільше значення упорядкованої послідовності (відповідно до встановлених правил сортування значень рядкового типу).\n",
    "\n",
    "Втім, заучувати межі застосування цих функцій не потрібно — просто керуйтеся здоровим глуздом.\n",
    "\n",
    "::: {.callout-note}\n",
    "Докладніше про агрегатні функції в **DuckDB** можна ознайомитися [тут](https://duckdb.org/docs/sql/aggregates.html).\n",
    ":::"
   ]
  },
  {
   "attachments": {},
   "cell_type": "markdown",
   "metadata": {},
   "source": [
    ":::: {.callout-note icon=false}\n",
    "## \n",
    "::: {#exr-sql-agg-03}\n",
    "<br>\n",
    "Порахуйте максимальну та мінімальну ціни товарів у таблиці `products`. Поля назвіть відповідно `max_price`, `min_price`.\n",
    "\n",
    "Поля у результуючій таблиці: `max_price`, `min_price`\n",
    "\n",
    "**Пояснення**: в одному запиті можна використовувати відразу кілька агрегаційних функцій — якщо необхідно, то навіть по кількох різних колонках.\n",
    ":::\n",
    "::::"
   ]
  },
  {
   "cell_type": "code",
   "execution_count": 4,
   "metadata": {},
   "outputs": [
    {
     "data": {
      "text/html": [
       "<div>\n",
       "<style scoped>\n",
       "    .dataframe tbody tr th:only-of-type {\n",
       "        vertical-align: middle;\n",
       "    }\n",
       "\n",
       "    .dataframe tbody tr th {\n",
       "        vertical-align: top;\n",
       "    }\n",
       "\n",
       "    .dataframe thead th {\n",
       "        text-align: right;\n",
       "    }\n",
       "</style>\n",
       "<table border=\"1\" class=\"dataframe\">\n",
       "  <thead>\n",
       "    <tr style=\"text-align: right;\">\n",
       "      <th></th>\n",
       "      <th>max_price</th>\n",
       "      <th>min_price</th>\n",
       "    </tr>\n",
       "  </thead>\n",
       "  <tbody>\n",
       "    <tr>\n",
       "      <th>0</th>\n",
       "      <td>800.0</td>\n",
       "      <td>1.0</td>\n",
       "    </tr>\n",
       "  </tbody>\n",
       "</table>\n",
       "</div>"
      ],
      "text/plain": [
       "   max_price  min_price\n",
       "0      800.0        1.0"
      ]
     },
     "execution_count": 4,
     "metadata": {},
     "output_type": "execute_result"
    }
   ],
   "source": [
    "#| code-fold: true\n",
    "#| code-summary: \"Рішення\"\n",
    "\n",
    "%%sql\n",
    "SELECT max(price) as max_price,\n",
    "       min(price) as min_price\n",
    "FROM   products"
   ]
  },
  {
   "attachments": {},
   "cell_type": "markdown",
   "metadata": {},
   "source": [
    "## `COUNT(*)` vs `COUNT(column)`\n",
    "Також при підрахунку кількості записів іноді замість найменування колонки як атрибут функції `COUNT` використовують зірочку «`*`»:\n",
    "\n",
    "```sql\n",
    "SELECT COUNT(*)\n",
    "FROM table\n",
    "```\n",
    "\n",
    "Однак важливо враховувати один нюанс: запит із зірочкою повертає кількість взагалі всіх записів у таблиці, а запит із зазначенням стовпця — кількість тих записів, де в заданому стовпці значення **не є `NULL`**.\n",
    "\n",
    "Таким чином, якщо в деякій колонці `column` є перепустки, вирази `COUNT(*)` і `COUNT(column)` повернуть різні значення.\n",
    "\n",
    "Давайте перевіримо!"
   ]
  },
  {
   "attachments": {},
   "cell_type": "markdown",
   "metadata": {},
   "source": [
    ":::: {.callout-note icon=false}\n",
    "## \n",
    "::: {#exr-sql-agg-04}\n",
    "<br>\n",
    "Як ви пам'ятаєте, у таблиці `users` в деяких користувачів не було зазначено їх дати народження.\n",
    "\n",
    "Порахуйте в одному запиті кількість усіх записів у таблиці та кількість лише тих записів, для яких у колонці `birth_date` вказана дата народження.\n",
    "\n",
    "Колонку із загальним числом записів назвіть `dates`, а колонку із записами без перепусток — `dates_not_null`.\n",
    "\n",
    "Поля у результуючій таблиці: `dates`, `dates_not_null`\n",
    ":::\n",
    "::::"
   ]
  },
  {
   "cell_type": "code",
   "execution_count": 5,
   "metadata": {},
   "outputs": [
    {
     "data": {
      "text/html": [
       "<div>\n",
       "<style scoped>\n",
       "    .dataframe tbody tr th:only-of-type {\n",
       "        vertical-align: middle;\n",
       "    }\n",
       "\n",
       "    .dataframe tbody tr th {\n",
       "        vertical-align: top;\n",
       "    }\n",
       "\n",
       "    .dataframe thead th {\n",
       "        text-align: right;\n",
       "    }\n",
       "</style>\n",
       "<table border=\"1\" class=\"dataframe\">\n",
       "  <thead>\n",
       "    <tr style=\"text-align: right;\">\n",
       "      <th></th>\n",
       "      <th>dates</th>\n",
       "      <th>dates_not_null</th>\n",
       "    </tr>\n",
       "  </thead>\n",
       "  <tbody>\n",
       "    <tr>\n",
       "      <th>0</th>\n",
       "      <td>20331</td>\n",
       "      <td>20281</td>\n",
       "    </tr>\n",
       "  </tbody>\n",
       "</table>\n",
       "</div>"
      ],
      "text/plain": [
       "   dates  dates_not_null\n",
       "0  20331           20281"
      ]
     },
     "execution_count": 5,
     "metadata": {},
     "output_type": "execute_result"
    }
   ],
   "source": [
    "#| code-fold: true\n",
    "#| code-summary: \"Рішення\"\n",
    "\n",
    "%%sql\n",
    "SELECT count(*) as dates,\n",
    "       count(birth_date) as dates_not_null\n",
    "FROM   users"
   ]
  },
  {
   "attachments": {},
   "cell_type": "markdown",
   "metadata": {},
   "source": [
    "І ще один важливий момент: агрегатні функції можна застосовувати в поєднанні з ключовим словом `DISTINCT`. У такому випадку розрахунки будуть проводитися лише за унікальними значеннями.\n",
    "\n",
    "Якщо у випадку з `MIN` та `MAX` це не має особливого сенсу, то при розрахунку `AVG`, `SUM` та `COUNT` іноді це буває корисно:\n",
    "\n",
    "```sql\n",
    "SELECT SUM(DISTINCT column) AS sum_distinct\n",
    "FROM table\n",
    "```\n",
    "\n",
    "При цьому досить часто `DISTINCT` використовується саме в поєднанні з `COUNT` для підрахунку числа унікальних користувачів, унікальних замовлень тощо.\n",
    "\n",
    "```sql\n",
    "SELECT COUNT(DISTINCT column) AS count_distinct\n",
    "FROM table\n",
    "```"
   ]
  },
  {
   "attachments": {},
   "cell_type": "markdown",
   "metadata": {},
   "source": [
    ":::: {.callout-note icon=false}\n",
    "## \n",
    "::: {#exr-sql-agg-05}\n",
    "<br>\n",
    "Порахуйте кількість всіх значень у колонці `user_id` у таблиці `user_actions`, а також кількість унікальних значень у цій колонці (тобто кількість унікальних користувачів сервісу).\n",
    "\n",
    "Колонку з першим отриманим значенням назвіть `users`, а колонку з другим – `unique_users`.\n",
    "\n",
    "Поля у результуючій таблиці: `users`, `unique_users`\n",
    ":::\n",
    "::::"
   ]
  },
  {
   "cell_type": "code",
   "execution_count": 6,
   "metadata": {},
   "outputs": [
    {
     "data": {
      "text/html": [
       "<div>\n",
       "<style scoped>\n",
       "    .dataframe tbody tr th:only-of-type {\n",
       "        vertical-align: middle;\n",
       "    }\n",
       "\n",
       "    .dataframe tbody tr th {\n",
       "        vertical-align: top;\n",
       "    }\n",
       "\n",
       "    .dataframe thead th {\n",
       "        text-align: right;\n",
       "    }\n",
       "</style>\n",
       "<table border=\"1\" class=\"dataframe\">\n",
       "  <thead>\n",
       "    <tr style=\"text-align: right;\">\n",
       "      <th></th>\n",
       "      <th>users</th>\n",
       "      <th>unique_users</th>\n",
       "    </tr>\n",
       "  </thead>\n",
       "  <tbody>\n",
       "    <tr>\n",
       "      <th>0</th>\n",
       "      <td>62574</td>\n",
       "      <td>21401</td>\n",
       "    </tr>\n",
       "  </tbody>\n",
       "</table>\n",
       "</div>"
      ],
      "text/plain": [
       "   users  unique_users\n",
       "0  62574         21401"
      ]
     },
     "execution_count": 6,
     "metadata": {},
     "output_type": "execute_result"
    }
   ],
   "source": [
    "#| code-fold: true\n",
    "#| code-summary: \"Рішення\"\n",
    "\n",
    "%%sql\n",
    "SELECT count(user_id) as users,\n",
    "       count(distinct user_id) as unique_users\n",
    "FROM   user_actions"
   ]
  },
  {
   "attachments": {},
   "cell_type": "markdown",
   "metadata": {},
   "source": [
    "## Фільтрація та агрегація\n",
    "\n",
    "А якщо для розрахунків нам потрібні не всі дані в стовпці, а тільки якась частина? Тоді в запит з агрегатними функціями можна включити оператор `WHERE`, вказавши умову для відбору записів:\n",
    "\n",
    "```sql\n",
    "SELECT COUNT(column_1) AS count\n",
    "FROM table\n",
    "WHERE column_2 > 100\n",
    "```\n",
    "\n",
    "У такому випадку спочатку буде виконана фільтрація таблиці і тільки потім буде проведена агрегація по записах, що залишилися.\n",
    "\n",
    "Про всяк випадок нагадаємо порядок виконання у запиті відомих нам ключових операторів:\n",
    "\n",
    "```sql\n",
    "SELECT      -- перерахування полів результуючої таблиці\n",
    "FROM        -- вказівка джерела даних\n",
    "WHERE       -- фільтрація даних\n",
    "ORDER BY    -- сортування результуючої таблиці\n",
    "LIMIT       -- обмеження кількості записів, що виводяться\n",
    "```"
   ]
  },
  {
   "attachments": {},
   "cell_type": "markdown",
   "metadata": {},
   "source": [
    ":::: {.callout-note icon=false}\n",
    "## \n",
    "::: {#exr-sql-agg-06}\n",
    "<br>\n",
    "Порахуйте кількість кур'єрів **жіночої статі** у таблиці `couriers`. Отриманий стовпець з одним значенням назвіть `couriers`.\n",
    "\n",
    "Поле в результуючій таблиці: `couriers`\n",
    ":::\n",
    "::::"
   ]
  },
  {
   "cell_type": "code",
   "execution_count": 7,
   "metadata": {},
   "outputs": [
    {
     "data": {
      "text/html": [
       "<div>\n",
       "<style scoped>\n",
       "    .dataframe tbody tr th:only-of-type {\n",
       "        vertical-align: middle;\n",
       "    }\n",
       "\n",
       "    .dataframe tbody tr th {\n",
       "        vertical-align: top;\n",
       "    }\n",
       "\n",
       "    .dataframe thead th {\n",
       "        text-align: right;\n",
       "    }\n",
       "</style>\n",
       "<table border=\"1\" class=\"dataframe\">\n",
       "  <thead>\n",
       "    <tr style=\"text-align: right;\">\n",
       "      <th></th>\n",
       "      <th>couriers</th>\n",
       "    </tr>\n",
       "  </thead>\n",
       "  <tbody>\n",
       "    <tr>\n",
       "      <th>0</th>\n",
       "      <td>1149</td>\n",
       "    </tr>\n",
       "  </tbody>\n",
       "</table>\n",
       "</div>"
      ],
      "text/plain": [
       "   couriers\n",
       "0      1149"
      ]
     },
     "execution_count": 7,
     "metadata": {},
     "output_type": "execute_result"
    }
   ],
   "source": [
    "#| code-fold: true\n",
    "#| code-summary: \"Рішення\"\n",
    "\n",
    "%%sql\n",
    "SELECT count(distinct courier_id) as couriers\n",
    "FROM   couriers\n",
    "WHERE  sex = 'female'"
   ]
  },
  {
   "attachments": {},
   "cell_type": "markdown",
   "metadata": {},
   "source": [
    "І ще одне завдання на агрегацію із фільтрацією. На цей раз проведемо розрахунки по колонці з даними у форматі `TIMESTAMP`."
   ]
  },
  {
   "attachments": {},
   "cell_type": "markdown",
   "metadata": {},
   "source": [
    ":::: {.callout-note icon=false}\n",
    "## \n",
    "::: {#exr-sql-agg-07}\n",
    "<br>\n",
    "Розрахуйте час, коли було здійснено першу та останню доставку замовлень у таблиці `courier_actions`.\n",
    "\n",
    "Колонку з часом першої доставки назвіть `first_delivery`, а колонку з часом останньої – `last_delivery`.\n",
    "\n",
    "Поля у результуючій таблиці: `first_delivery`, `last_delivery`\n",
    "\n",
    "**Пояснення**: зауважте, що в таблиці з діями кур'єрів є не тільки записи з часом доставки замовлень, але й записи з часом їх прийняття.\n",
    ":::\n",
    "::::"
   ]
  },
  {
   "cell_type": "code",
   "execution_count": 8,
   "metadata": {},
   "outputs": [
    {
     "data": {
      "text/html": [
       "<div>\n",
       "<style scoped>\n",
       "    .dataframe tbody tr th:only-of-type {\n",
       "        vertical-align: middle;\n",
       "    }\n",
       "\n",
       "    .dataframe tbody tr th {\n",
       "        vertical-align: top;\n",
       "    }\n",
       "\n",
       "    .dataframe thead th {\n",
       "        text-align: right;\n",
       "    }\n",
       "</style>\n",
       "<table border=\"1\" class=\"dataframe\">\n",
       "  <thead>\n",
       "    <tr style=\"text-align: right;\">\n",
       "      <th></th>\n",
       "      <th>first_delivery</th>\n",
       "      <th>last_delivery</th>\n",
       "    </tr>\n",
       "  </thead>\n",
       "  <tbody>\n",
       "    <tr>\n",
       "      <th>0</th>\n",
       "      <td>2022-08-24 02:15:00</td>\n",
       "      <td>2022-09-08 23:59:00</td>\n",
       "    </tr>\n",
       "  </tbody>\n",
       "</table>\n",
       "</div>"
      ],
      "text/plain": [
       "       first_delivery       last_delivery\n",
       "0 2022-08-24 02:15:00 2022-09-08 23:59:00"
      ]
     },
     "execution_count": 8,
     "metadata": {},
     "output_type": "execute_result"
    }
   ],
   "source": [
    "#| code-fold: true\n",
    "#| code-summary: \"Рішення\"\n",
    "\n",
    "%%sql\n",
    "SELECT min(time) as first_delivery,\n",
    "       max(time) as last_delivery\n",
    "FROM   courier_actions\n",
    "WHERE  action = 'deliver_order'"
   ]
  },
  {
   "attachments": {},
   "cell_type": "markdown",
   "metadata": {},
   "source": [
    "У поєднанні з агрегатними функціями можна використовувати ті ж умовні конструкції, які ми розглядали раніше.\n",
    "\n",
    "Давайте додамо до нашого запиту більш цікаву фільтрацію."
   ]
  },
  {
   "attachments": {},
   "cell_type": "markdown",
   "metadata": {},
   "source": [
    ":::: {.callout-note icon=false}\n",
    "## \n",
    "::: {#exr-sql-agg-08}\n",
    "<br>\n",
    "Уявіть, що один із користувачів сервісу зробив замовлення, до якого увійшли одна пачка крекерів (`crackers`), одна пачка чіпсів (`chips`) та один енергетичний напій (`energy drink`). Порахуйте вартість такого замовлення.\n",
    "\n",
    "Колонку із розрахованою вартістю замовлення назвіть `order_price`.\n",
    "\n",
    "Для розрахунків використовуйте таблицю `products`.\n",
    "\n",
    "Поле в результуючій таблиці: `order_price`\n",
    ":::\n",
    "::::"
   ]
  },
  {
   "attachments": {},
   "cell_type": "markdown",
   "metadata": {},
   "source": [
    "::: {.callout-tip collapse=\"true\"}\n",
    "## Підказка\n",
    "\n",
    "Для вирішення завдання необхідно «сформувати» описане замовлення, відібравши з таблиці `products` зазначені товари та порахувавши їхню сумарну вартість.\n",
    ":::"
   ]
  },
  {
   "cell_type": "code",
   "execution_count": 9,
   "metadata": {},
   "outputs": [
    {
     "data": {
      "text/html": [
       "<div>\n",
       "<style scoped>\n",
       "    .dataframe tbody tr th:only-of-type {\n",
       "        vertical-align: middle;\n",
       "    }\n",
       "\n",
       "    .dataframe tbody tr th {\n",
       "        vertical-align: top;\n",
       "    }\n",
       "\n",
       "    .dataframe thead th {\n",
       "        text-align: right;\n",
       "    }\n",
       "</style>\n",
       "<table border=\"1\" class=\"dataframe\">\n",
       "  <thead>\n",
       "    <tr style=\"text-align: right;\">\n",
       "      <th></th>\n",
       "      <th>order_price</th>\n",
       "    </tr>\n",
       "  </thead>\n",
       "  <tbody>\n",
       "    <tr>\n",
       "      <th>0</th>\n",
       "      <td>235.0</td>\n",
       "    </tr>\n",
       "  </tbody>\n",
       "</table>\n",
       "</div>"
      ],
      "text/plain": [
       "   order_price\n",
       "0        235.0"
      ]
     },
     "execution_count": 9,
     "metadata": {},
     "output_type": "execute_result"
    }
   ],
   "source": [
    "#| code-fold: true\n",
    "#| code-summary: \"Рішення\"\n",
    "\n",
    "%%sql\n",
    "SELECT sum(price) as order_price\n",
    "FROM   products\n",
    "WHERE  name in ('crackers', 'chips', 'energy drink')"
   ]
  },
  {
   "attachments": {},
   "cell_type": "markdown",
   "metadata": {},
   "source": [
    "## Довжина списку: `ARRAY_LENGTH`\n",
    "\n",
    "Як пам'ятаєте, у таблиці `orders` вміст замовлень представлено вигляді списків товарів (масивів). Щоб порахувати кількість товарів у кожному замовленні, можна скористатися функцією `array_length`.\n",
    "\n",
    "Функція `array_length` обчислює кількість елементів у масиві (довжину масиву) і записується так:\n",
    "\n",
    "```sql\n",
    "SELECT array_length(ARRAY['first', 'second', 'third'], 1)\n",
    "\n",
    "Результат:\n",
    "3\n",
    "```\n",
    "\n",
    "Синтаксис може здатися вам трохи складним, але це лише на перший погляд! Давайте розбиратися.\n",
    "\n",
    "`ARRAY['first', 'second', 'third']` – це деякий список із трьох значень: `'first'`, `'second'`, `'third`'.\n",
    "\n",
    "Одиниця як другий аргумент — це розмірність масиву, за якій рахується його довжина. Так як список у нас одновимірний (просто значення, записані в один рядок), то вибір у нас невеликий – можемо вказати лише першу розмірність.\n",
    "\n",
    "Якби в нас була таблиця `N x N`, в якій були б і рядки, і стовпці, то розмірності було б дві: перша відповідала кількості рядків, а друга — числу стовпців. У такому випадку ми могли б вказати або першу, або другу розмірність.\n",
    "\n",
    "Давайте уявімо, що у нас є проста таблиця наступного виду:\n",
    "\n",
    "```markdown\n",
    " _______\n",
    "| 1 | 2 |\n",
    "| 3 | 4 |\n",
    "| 5 | 6 |\n",
    " ‾‾‾‾‾‾‾\n",
    " ```\n",
    "\n",
    "У цій таблиці 3 рядки та 2 стовпці, тому її можна описати у вигляді наступного списку з трьох вкладених у нього списків:\n",
    "\n",
    "```sql\n",
    "ARRAY[[1,2], [3,4], [5,6]]\n",
    "```\n",
    "\n",
    "У прикладі вище кількість списків усередині основного списку — кількість рядків у таблиці, а кількість елементів усередині кожного внутрішнього списку — кількість стовпців.\n",
    "\n",
    "Зверніть увагу на результат обчислень функції `array_length` для першої та другої розмірності:\n",
    "\n",
    "```sql\n",
    "SELECT array_length(ARRAY[[1,2], [3,4], [5,6]], 1)\n",
    "\n",
    "Результат:\n",
    "3\n",
    "\n",
    "SELECT array_length(ARRAY[[1,2], [3,4], [5,6]], 2)\n",
    "\n",
    "Результат:\n",
    "2\n",
    "```\n",
    "\n",
    "У це досить складно повірити, але значеннями в основній таблиці справді можуть бути інші таблиці (матриці). На щастя, у нас не такі дані, тому ми працюватимемо із простими однорозмірними списками значень.\n",
    "\n",
    "В якості аргументу функції `array_length` на місці масиву можна вказувати ім'я колонки, яка містить масиви (у нашому випадку це колонка `product_ids`):\n",
    "\n",
    "```sql\n",
    "SELECT array_length(column, 1)\n",
    "FROM table\n",
    "```\n",
    "\n",
    "::: {.callout-note}\n",
    "Дізнатися більше про функції для роботи з масивами можна у [документації](https://duckdb.org/docs/sql/functions/nested.html). З деякими з них ми познайомимося далі.\n",
    ":::"
   ]
  },
  {
   "attachments": {},
   "cell_type": "markdown",
   "metadata": {},
   "source": [
    ":::: {.callout-note icon=false}\n",
    "## \n",
    "::: {#exr-sql-agg-09}\n",
    "<br>\n",
    "Порахуйте кількість замовлень у таблиці `orders` **із дев'ятьма і більше товарами**. Для цього скористайтесь функцією `array_length`, відфільтруйте дані щодо кількості товарів у замовленні та проведіть агрегацію. Отриманий стовпець назвіть `orders`.\n",
    "\n",
    "Поле в результуючій таблиці: `orders`\n",
    "\n",
    "**Пояснення**: у наших даних у колонці `product_ids` містяться звичайні списки товарів лише з однією розмірністю.\n",
    ":::\n",
    "::::"
   ]
  },
  {
   "cell_type": "code",
   "execution_count": 10,
   "metadata": {},
   "outputs": [
    {
     "data": {
      "text/html": [
       "<div>\n",
       "<style scoped>\n",
       "    .dataframe tbody tr th:only-of-type {\n",
       "        vertical-align: middle;\n",
       "    }\n",
       "\n",
       "    .dataframe tbody tr th {\n",
       "        vertical-align: top;\n",
       "    }\n",
       "\n",
       "    .dataframe thead th {\n",
       "        text-align: right;\n",
       "    }\n",
       "</style>\n",
       "<table border=\"1\" class=\"dataframe\">\n",
       "  <thead>\n",
       "    <tr style=\"text-align: right;\">\n",
       "      <th></th>\n",
       "      <th>orders</th>\n",
       "    </tr>\n",
       "  </thead>\n",
       "  <tbody>\n",
       "    <tr>\n",
       "      <th>0</th>\n",
       "      <td>5</td>\n",
       "    </tr>\n",
       "  </tbody>\n",
       "</table>\n",
       "</div>"
      ],
      "text/plain": [
       "   orders\n",
       "0       5"
      ]
     },
     "execution_count": 10,
     "metadata": {},
     "output_type": "execute_result"
    }
   ],
   "source": [
    "#| code-fold: true\n",
    "#| code-summary: \"Рішення\"\n",
    "\n",
    "%%sql\n",
    "SELECT count(order_id) as orders\n",
    "FROM   orders\n",
    "WHERE  array_length(product_ids, 1) >= 9"
   ]
  },
  {
   "attachments": {},
   "cell_type": "markdown",
   "metadata": {},
   "source": [
    "## Різниця часу: `AGE`\n",
    "\n",
    "В якості агрегатних функцій можуть виступати не тільки стовпці, але також розрахункові колонки або результат іншої функції:\n",
    "\n",
    "```sql\n",
    "SELECT AVG(some_function(column))\n",
    "FROM table\n",
    "\n",
    "\n",
    "SELECT AVG(column_1 + column_2)\n",
    "FROM table\n",
    "```\n",
    "\n",
    "Спробуємо розрахувати середній вік користувачів чоловічої статі. Для цього скористаємось новою для нас функцією `AGE`.\n",
    "\n",
    "Функція `AGE` повертає різницю між двома значеннями, наведеними у форматі `TIMESTAMP`. При цьому від першого значення віднімається друге, а сама різниця повертається у форматі `INTERVAL`:\n",
    "\n",
    "```sql\n",
    "SELECT AGE('2022-12-12', '2021-11-10')\n",
    "\n",
    "Результат:\n",
    "397 days, 0:00:00\n",
    "```\n",
    "\n",
    "Таким чином, з `'2021-11-10'` до `'2022-12-12'` пройшло рівно **397 днів**.\n",
    "\n",
    "Якщо в якості першого аргументу нічого не вказати, то на місце першої дати автоматично підставиться поточна дата (опівніч поточного дня, тобто початок дня).\n",
    "\n",
    "Якщо сьогодні `'2022-12-12'`, то з `'2021-11-10'` пройшло рівно стільки ж днів, скільки у прикладі вище:\n",
    "\n",
    "```sql\n",
    "SELECT AGE(TIMESTAMP '2021-11-10')\n",
    "\n",
    "Результат:\n",
    "397 days, 0:00:00\n",
    "```\n",
    "\n",
    "Насправді поточній даті відповідає значення `current_date`, яке можна вказувати як аргумент функції `AGE`:\n",
    "\n",
    "```sql\n",
    "SELECT AGE(TIMESTAMP '2021-11-10')\n",
    "\n",
    "Результат:\n",
    "397 days, 0:00:00\n",
    "```\n",
    "\n",
    "Можете самостійно запустити два запити - з `current_date` і без - і порівняти отримані результати. У вашому випадку це будуть нові результати, але вони мають збігтися.\n",
    "\n",
    "А саме значення `current_date` можна викликати так:\n",
    "\n",
    "```sql\n",
    "SELECT current_date\n",
    "\n",
    "Результат:\n",
    "2023-06-01\t\n",
    "```"
   ]
  },
  {
   "attachments": {},
   "cell_type": "markdown",
   "metadata": {},
   "source": [
    "Для того щоб результат відображався не у кількості днів, а в зручнішому форматі, можна переводити результат обчислень у тип `VARCHAR`:\n",
    "\n",
    "```sql\n",
    "SELECT AGE(current_date, '2021-11-10')::VARCHAR\n",
    "\n",
    "Результат:\n",
    "1 year 1 mon 2 days\n",
    "```"
   ]
  },
  {
   "attachments": {},
   "cell_type": "markdown",
   "metadata": {},
   "source": [
    ":::: {.callout-note icon=false}\n",
    "## \n",
    "::: {#exr-sql-agg-10}\n",
    "<br>\n",
    "За допомогою функції `AGE` і агрегатної функції розрахуйте **вік наймолодшого кур'єра чоловічої статі** в таблиці `couriers`.\n",
    "\n",
    "Вік виведіть через кількість років, місяців і днів (як у прикладі вище), перевівши їх у тип `VARCHAR`.\n",
    "\n",
    "В якості дати, відносно якої необхідно розрахувати вік кур'єрів, використовуйте свою поточну дату (або не вказуйте її на місці першого аргументу, як показано в прикладах).\n",
    "\n",
    "Отриману колонку зі значенням віку назвіть `min_age`.\n",
    "\n",
    "Поле у результуючій таблиці: `min_age`\n",
    "\n",
    "**Пояснення**: оскільки в якості дати, щодо якої проводиться розрахунок віку, ми використовуємо поточну дату, кожен новий день ми отримуватимемо новий результат.\n",
    "\n",
    "Зрозуміло, що рахувати вік у такий спосіб не зовсім коректно. Ми навчимося робити це правильно в розділі «Підзапити».\n",
    ":::\n",
    "::::"
   ]
  },
  {
   "cell_type": "code",
   "execution_count": 11,
   "metadata": {},
   "outputs": [
    {
     "data": {
      "text/html": [
       "<div>\n",
       "<style scoped>\n",
       "    .dataframe tbody tr th:only-of-type {\n",
       "        vertical-align: middle;\n",
       "    }\n",
       "\n",
       "    .dataframe tbody tr th {\n",
       "        vertical-align: top;\n",
       "    }\n",
       "\n",
       "    .dataframe thead th {\n",
       "        text-align: right;\n",
       "    }\n",
       "</style>\n",
       "<table border=\"1\" class=\"dataframe\">\n",
       "  <thead>\n",
       "    <tr style=\"text-align: right;\">\n",
       "      <th></th>\n",
       "      <th>min_age</th>\n",
       "    </tr>\n",
       "  </thead>\n",
       "  <tbody>\n",
       "    <tr>\n",
       "      <th>0</th>\n",
       "      <td>17 years 8 months 28 days 13:03:18.214</td>\n",
       "    </tr>\n",
       "  </tbody>\n",
       "</table>\n",
       "</div>"
      ],
      "text/plain": [
       "                                  min_age\n",
       "0  17 years 8 months 28 days 13:03:18.214"
      ]
     },
     "execution_count": 11,
     "metadata": {},
     "output_type": "execute_result"
    }
   ],
   "source": [
    "#| code-fold: true\n",
    "#| code-summary: \"Рішення\"\n",
    "\n",
    "%%sql\n",
    "SELECT age(max(birth_date))::varchar as min_age\n",
    "FROM   couriers\n",
    "WHERE  sex = 'male'"
   ]
  },
  {
   "attachments": {},
   "cell_type": "markdown",
   "metadata": {},
   "source": [
    "## Агрегація з `CASE WHEN`\n",
    "\n",
    "Аргументом агрегатної функції може бути і складніша розрахункова колонка - наприклад, отримана в результаті роботи конструкції `CASE`.\n",
    "\n",
    "У такому випадку сама конструкція `CASE` поміщається всередину дужок агрегатної функції:\n",
    "\n",
    "```sql\n",
    "AVG(\n",
    "    CASE  \n",
    "    WHEN logical_expression_1 THEN expression_1\n",
    "    WHEN logical_expression_2 THEN expression_2\n",
    "    ELSE expression_else\n",
    "    END\n",
    ")\n",
    "```\n",
    "\n",
    "Так, якби в нашій таблиці всі товари були розбиті за категоріями і ми захотіли б порахувати середню ціну товарів з урахуванням підвищувальних чи знижувальних коефіцієнтів для кожної категорії, то ми могли б зробити це, наприклад, так:\n",
    "\n",
    "```sql\n",
    "SELECT AVG(\n",
    "    CASE \n",
    "    WHEN category=\"м'ясо\" THEN price*0.95\n",
    "    WHEN category=\"риба\" THEN price*0.9\n",
    "    WHEN category=\"напої\" THEN price*1.05\n",
    "    ELSE price\n",
    "    END\n",
    "    ) AS avg_price\n",
    "FROM products\n",
    "```\n",
    "\n",
    "Давайте ускладнимо одне з попередніх завдань і розрахуємо вартість ще одного замовлення."
   ]
  },
  {
   "attachments": {},
   "cell_type": "markdown",
   "metadata": {},
   "source": [
    ":::: {.callout-note icon=false}\n",
    "## \n",
    "::: {#exr-sql-agg-11}\n",
    "<br>\n",
    "Порахуйте вартість замовлення, в якому будуть три пачки крекерів (`'crackers'`), дві пачки чіпсів (`'chips'`) та один енергетичний напій (`'energy drink'`). Колонку із розрахованою вартістю замовлення назвіть `order_price`.\n",
    "\n",
    "Для розрахунків використовуйте таблицю `products`.\n",
    "\n",
    "Поле в результуючій таблиці: `order_price`\n",
    "\n",
    ":::\n",
    "::::"
   ]
  },
  {
   "attachments": {},
   "cell_type": "markdown",
   "metadata": {},
   "source": [
    "::: {.callout-tip collapse=\"true\"}\n",
    "## Підказка\n",
    "\n",
    "Для розв'язання задачі необхідно за допомогою конструкції `CASE` створити розрахункову колонку, в якій навпроти кожного товару, який увійшов у замовлення, проставити ціну, помножену на кількість таких товарів у замовленні. Для товарів, які не увійшли у замовлення, необхідно вказати ціну, що дорівнює `0` або `NULL`. Потім за допомогою агрегатної функції достатньо порахувати суму значень у новій розрахунковій колонці.\n",
    ":::"
   ]
  },
  {
   "cell_type": "code",
   "execution_count": 12,
   "metadata": {},
   "outputs": [
    {
     "data": {
      "text/html": [
       "<div>\n",
       "<style scoped>\n",
       "    .dataframe tbody tr th:only-of-type {\n",
       "        vertical-align: middle;\n",
       "    }\n",
       "\n",
       "    .dataframe tbody tr th {\n",
       "        vertical-align: top;\n",
       "    }\n",
       "\n",
       "    .dataframe thead th {\n",
       "        text-align: right;\n",
       "    }\n",
       "</style>\n",
       "<table border=\"1\" class=\"dataframe\">\n",
       "  <thead>\n",
       "    <tr style=\"text-align: right;\">\n",
       "      <th></th>\n",
       "      <th>order_price</th>\n",
       "    </tr>\n",
       "  </thead>\n",
       "  <tbody>\n",
       "    <tr>\n",
       "      <th>0</th>\n",
       "      <td>355.0</td>\n",
       "    </tr>\n",
       "  </tbody>\n",
       "</table>\n",
       "</div>"
      ],
      "text/plain": [
       "   order_price\n",
       "0        355.0"
      ]
     },
     "execution_count": 12,
     "metadata": {},
     "output_type": "execute_result"
    }
   ],
   "source": [
    "#| code-fold: true\n",
    "#| code-summary: \"Рішення\"\n",
    "\n",
    "%%sql\n",
    "SELECT sum(case when name = 'crackers' then price * 3\n",
    "                when name = 'chips' then price * 2\n",
    "                when name = 'energy drink' then price\n",
    "                else 0 end) as order_price\n",
    "FROM   products"
   ]
  },
  {
   "attachments": {},
   "cell_type": "markdown",
   "metadata": {},
   "source": [
    "## Агрегатні вирази з фільтрацією\n",
    "\n",
    "Ми розглянули кілька прикладів, коли в якості агрументу агрегатних функцій виступає результат виконання іншої функції.\n",
    "\n",
    "Але агрегатна функція може і сама опинитися на місці аргументу якоїсь функції:\n",
    "\n",
    "```sql\n",
    "SELECT some_function(SUM(column)) AS result\n",
    "FROM table\n",
    "```\n",
    "\n",
    "Наочний приклад --- застосування функції `ROUND` до результату агрегації:\n",
    "\n",
    "```sql\n",
    "SELECT ROUND(SUM(column)) AS rounded_sum\n",
    "FROM table\n",
    "```\n",
    "\n",
    "Давайте вирішимо схоже завдання і заразом ненадовго повернемося до наших напоїв та оператора `LIKE`."
   ]
  },
  {
   "attachments": {},
   "cell_type": "markdown",
   "metadata": {},
   "source": [
    ":::: {.callout-note icon=false}\n",
    "## \n",
    "::: {#exr-sql-agg-12}\n",
    "<br>\n",
    "Розрахуйте середню ціну товарів у таблиці `products`, у назвах яких є слова `'tea'` чи `'coffee'`. Виключіть з розрахунку товари, що містять «іван-чай» (`'ivan-tea'`) або «чайний гриб» (`'tea mushroom'`).\n",
    "\n",
    "Середню ціну округліть до двох знаків після коми. Стовпець із отриманим значенням назвіть `avg_price`.\n",
    "\n",
    "Поле у результуючій таблиці: `avg_price`\n",
    "\n",
    "**Пояснення**: пам'ятайте, що виконання логічних виразів можна керувати за допомогою дужок. Це може стати в нагоді.\n",
    "\n",
    ":::\n",
    "::::"
   ]
  },
  {
   "cell_type": "code",
   "execution_count": 13,
   "metadata": {},
   "outputs": [
    {
     "data": {
      "text/html": [
       "<div>\n",
       "<style scoped>\n",
       "    .dataframe tbody tr th:only-of-type {\n",
       "        vertical-align: middle;\n",
       "    }\n",
       "\n",
       "    .dataframe tbody tr th {\n",
       "        vertical-align: top;\n",
       "    }\n",
       "\n",
       "    .dataframe thead th {\n",
       "        text-align: right;\n",
       "    }\n",
       "</style>\n",
       "<table border=\"1\" class=\"dataframe\">\n",
       "  <thead>\n",
       "    <tr style=\"text-align: right;\">\n",
       "      <th></th>\n",
       "      <th>avg_price</th>\n",
       "    </tr>\n",
       "  </thead>\n",
       "  <tbody>\n",
       "    <tr>\n",
       "      <th>0</th>\n",
       "      <td>135.23</td>\n",
       "    </tr>\n",
       "  </tbody>\n",
       "</table>\n",
       "</div>"
      ],
      "text/plain": [
       "   avg_price\n",
       "0     135.23"
      ]
     },
     "execution_count": 13,
     "metadata": {},
     "output_type": "execute_result"
    }
   ],
   "source": [
    "#| code-fold: true\n",
    "#| code-summary: \"Рішення\"\n",
    "\n",
    "%%sql\n",
    "SELECT round(avg(price), 2) as avg_price\n",
    "FROM   products\n",
    "WHERE  (name like '%tea%'\n",
    "    or name like '%coffee%')\n",
    "   and name not like '%ivan-tea%'\n",
    "   and name not like '%mushroom%'"
   ]
  },
  {
   "attachments": {},
   "cell_type": "markdown",
   "metadata": {},
   "source": [
    "Втім, бувають і випадки, коли як аргументи деякої функції виступають відразу кілька агрегатних функцій:\n",
    "\n",
    "```sql\n",
    "SELECT some_function(SUM(column_1), SUM(column_2)) AS result\n",
    "FROM table\n",
    "```\n",
    "\n",
    "Наприклад, нам уже знайома функція `AGE`, яка може приймати одразу два аргументи - дату кінця та дату початку деякого періоду часу."
   ]
  },
  {
   "attachments": {},
   "cell_type": "markdown",
   "metadata": {},
   "source": [
    ":::: {.callout-note icon=false}\n",
    "## \n",
    "::: {#exr-sql-agg-13}\n",
    "<br>\n",
    "Скористайтеся функцією `AGE` та розрахуйте **різницю у віці між найстарішим та наймолодшим користувачами чоловічої статі** у таблиці `users`.\n",
    "\n",
    "Різницю у віці висловіть кількістю років, місяців та днів, перевівши її у тип `VARCHAR`.\n",
    "\n",
    "Назвіть колонку з порахованим значенням `age_diff`.\n",
    "\n",
    "Поле у результуючій таблиці: `age_diff`\n",
    "\n",
    ":::\n",
    "::::"
   ]
  },
  {
   "attachments": {},
   "cell_type": "markdown",
   "metadata": {},
   "source": [
    "::: {.callout-tip collapse=\"true\"}\n",
    "## Підказка\n",
    "\n",
    "Це завдання можна вирішити різними способами: можна просто знайти різницю між датами народження наймолодшого і найстарішого користувачів, а можна порахувати різницю між їх віком. Можете піти будь-яким шляхом. Якщо рахуватимете вік, то в якості першої дати використовуйте свою поточну дату (`current_date`).\n",
    ":::"
   ]
  },
  {
   "cell_type": "code",
   "execution_count": 14,
   "metadata": {},
   "outputs": [
    {
     "data": {
      "text/html": [
       "<div>\n",
       "<style scoped>\n",
       "    .dataframe tbody tr th:only-of-type {\n",
       "        vertical-align: middle;\n",
       "    }\n",
       "\n",
       "    .dataframe tbody tr th {\n",
       "        vertical-align: top;\n",
       "    }\n",
       "\n",
       "    .dataframe thead th {\n",
       "        text-align: right;\n",
       "    }\n",
       "</style>\n",
       "<table border=\"1\" class=\"dataframe\">\n",
       "  <thead>\n",
       "    <tr style=\"text-align: right;\">\n",
       "      <th></th>\n",
       "      <th>age_diff</th>\n",
       "    </tr>\n",
       "  </thead>\n",
       "  <tbody>\n",
       "    <tr>\n",
       "      <th>0</th>\n",
       "      <td>21 years 9 months 27 days</td>\n",
       "    </tr>\n",
       "  </tbody>\n",
       "</table>\n",
       "</div>"
      ],
      "text/plain": [
       "                    age_diff\n",
       "0  21 years 9 months 27 days"
      ]
     },
     "execution_count": 14,
     "metadata": {},
     "output_type": "execute_result"
    }
   ],
   "source": [
    "#| code-fold: true\n",
    "#| code-summary: \"Рішення\"\n",
    "\n",
    "%%sql\n",
    "SELECT age(max(birth_date), min(birth_date))::varchar as age_diff\n",
    "FROM   users\n",
    "WHERE  sex = 'male'"
   ]
  },
  {
   "attachments": {},
   "cell_type": "markdown",
   "metadata": {},
   "source": [
    "А тепер розглянемо приклад, коли агрегатна функція приймає в якості аргументу одну функцію і при цьому сама є аргументом іншої функції.\n",
    "\n",
    "Виглядати це може так:\n",
    "\n",
    "```sql\n",
    "SELECT function_two(SUM(funtion_one(column))) AS result\n",
    "FROM table\n",
    "```\n",
    "\n",
    "У цьому прикладі спочатку до колонки `column` застосовується функція `funtion_one`, потім за допомогою функції `SUM` буде пораховано суму отриманих значень, і тільки потім до результату агрегації застосовується функція `funtion_two`."
   ]
  },
  {
   "attachments": {},
   "cell_type": "markdown",
   "metadata": {},
   "source": [
    ":::: {.callout-note icon=false}\n",
    "## \n",
    "::: {#exr-sql-agg-14}\n",
    "<br>\n",
    "Розрахуйте **середню кількість товарів у замовленнях** з таблиці `orders`, які користувачі оформляли у вихідні дні (субота та неділя) протягом усього часу роботи сервісу.\n",
    "\n",
    "Отримане значення округліть до двох знаків після коми. Назвіть колонку з ним `avg_order_size`.\n",
    "\n",
    "Поле у результуючій таблиці: `avg_order_size`\n",
    "\n",
    ":::\n",
    "::::"
   ]
  },
  {
   "attachments": {},
   "cell_type": "markdown",
   "metadata": {},
   "source": [
    "::: {.callout-tip collapse=\"true\"}\n",
    "## Підказка\n",
    "\n",
    "Для розрахунку кількості товарів у замовленнях скористайтесь функцією `array_length`. Для фільтрації таблиці у вихідні дні можна використовувати функцію `DATE_PART` з параметром `'dow'`.\n",
    ":::"
   ]
  },
  {
   "cell_type": "code",
   "execution_count": 15,
   "metadata": {},
   "outputs": [
    {
     "data": {
      "text/html": [
       "<div>\n",
       "<style scoped>\n",
       "    .dataframe tbody tr th:only-of-type {\n",
       "        vertical-align: middle;\n",
       "    }\n",
       "\n",
       "    .dataframe tbody tr th {\n",
       "        vertical-align: top;\n",
       "    }\n",
       "\n",
       "    .dataframe thead th {\n",
       "        text-align: right;\n",
       "    }\n",
       "</style>\n",
       "<table border=\"1\" class=\"dataframe\">\n",
       "  <thead>\n",
       "    <tr style=\"text-align: right;\">\n",
       "      <th></th>\n",
       "      <th>avg_order_size</th>\n",
       "    </tr>\n",
       "  </thead>\n",
       "  <tbody>\n",
       "    <tr>\n",
       "      <th>0</th>\n",
       "      <td>3.39</td>\n",
       "    </tr>\n",
       "  </tbody>\n",
       "</table>\n",
       "</div>"
      ],
      "text/plain": [
       "   avg_order_size\n",
       "0            3.39"
      ]
     },
     "execution_count": 15,
     "metadata": {},
     "output_type": "execute_result"
    }
   ],
   "source": [
    "#| code-fold: true\n",
    "#| code-summary: \"Рішення\"\n",
    "\n",
    "%%sql\n",
    "SELECT round(avg(array_length(product_ids, 1)), 2) as avg_order_size\n",
    "FROM   orders\n",
    "WHERE  date_part('dow', creation_time) in (6, 0)"
   ]
  },
  {
   "attachments": {},
   "cell_type": "markdown",
   "metadata": {},
   "source": [
    "Результати декількох агрегатних функцій можна використовувати в одному запиті для проведення над ними арифметичних операцій:\n",
    "\n",
    "```sql\n",
    "SELECT (SUM(column_1) + SUM(column_2)) / 2\n",
    "FROM table\n",
    "```\n",
    "\n",
    "У запиті вище буде пораховано середнє арифметичне двох сум — значень колонки `column_1` і значень колонки `column_2`."
   ]
  },
  {
   "attachments": {},
   "cell_type": "markdown",
   "metadata": {},
   "source": [
    ":::: {.callout-note icon=false}\n",
    "## \n",
    "::: {#exr-sql-agg-15}\n",
    "<br>\n",
    "На основі даних у таблиці `user_actions` порахуйте:\n",
    "- **кількість унікальних користувачів** сервісу;\n",
    "- **кількість унікальних замовлень**\n",
    "- **скільки замовлень припадає на одного користувача**.\n",
    "\n",
    "У результуючій таблиці відобразіть усі три значення – поля назвіть відповідно `unique_users`, `unique_orders`, `orders_per_user`.\n",
    "\n",
    "Показник числа замовлень користувача округліть **до двох знаків після коми**.\n",
    "\n",
    "Поля у результуючій таблиці: `unique_users`, `unique_orders`, `orders_per_user`\n",
    "\n",
    ":::\n",
    "::::"
   ]
  },
  {
   "attachments": {},
   "cell_type": "markdown",
   "metadata": {},
   "source": [
    "::: {.callout-important}\n",
    "Щоб отримати коректний результат поділу, необхідно хоча б одне із значень попередньо привести до типу `DECIMAL` (або помножити на `1.0`). Інакше результатом розподілу цілого числа інше ціле число буде теж ціле число.\n",
    "\n",
    "До речі, з подібною проблемою можна ознайомитись на [stackoverflow](https://stackoverflow.com/questions/34504497/division-not-giving-my-answer-in-postgresql). Це дуже корисний ресурс для пошуку відповідей на свої запитання. Навіть досвідчені програмісти часто ним користуються. Можете вже зараз почати виробляти звичку звертатися до нього за необхідності.\n",
    "\n",
    "Також пам'ятайте, що використовувати в розрахунках аліаси нових колонок не можна.\n",
    ":::"
   ]
  },
  {
   "cell_type": "code",
   "execution_count": 16,
   "metadata": {},
   "outputs": [
    {
     "data": {
      "text/html": [
       "<div>\n",
       "<style scoped>\n",
       "    .dataframe tbody tr th:only-of-type {\n",
       "        vertical-align: middle;\n",
       "    }\n",
       "\n",
       "    .dataframe tbody tr th {\n",
       "        vertical-align: top;\n",
       "    }\n",
       "\n",
       "    .dataframe thead th {\n",
       "        text-align: right;\n",
       "    }\n",
       "</style>\n",
       "<table border=\"1\" class=\"dataframe\">\n",
       "  <thead>\n",
       "    <tr style=\"text-align: right;\">\n",
       "      <th></th>\n",
       "      <th>unique_users</th>\n",
       "      <th>unique_orders</th>\n",
       "      <th>orders_per_user</th>\n",
       "    </tr>\n",
       "  </thead>\n",
       "  <tbody>\n",
       "    <tr>\n",
       "      <th>0</th>\n",
       "      <td>21401</td>\n",
       "      <td>59595</td>\n",
       "      <td>2.78</td>\n",
       "    </tr>\n",
       "  </tbody>\n",
       "</table>\n",
       "</div>"
      ],
      "text/plain": [
       "   unique_users  unique_orders  orders_per_user\n",
       "0         21401          59595             2.78"
      ]
     },
     "execution_count": 16,
     "metadata": {},
     "output_type": "execute_result"
    }
   ],
   "source": [
    "#| code-fold: true\n",
    "#| code-summary: \"Рішення\"\n",
    "\n",
    "%%sql\n",
    "SELECT count(distinct user_id) as unique_users,\n",
    "       count(distinct order_id) as unique_orders,\n",
    "       round(count(distinct order_id) * 1.0 / count(distinct user_id),\n",
    "             2) as orders_per_user\n",
    "FROM   user_actions\n",
    "\n",
    "-- Рішення через DECIMAL\n",
    "-- SELECT count(distinct user_id) as unique_users,\n",
    "--        count(distinct order_id) as unique_orders,\n",
    "--        round(count(distinct order_id)::DECIMAL / count(distinct user_id),\n",
    "--              2) as orders_per_user\n",
    "-- FROM   user_actions"
   ]
  },
  {
   "attachments": {},
   "cell_type": "markdown",
   "metadata": {},
   "source": [
    "І насамкінець познайомимося з більш просунутим функціоналом — **агрегатними виразами з фільтрацією**.\n",
    "\n",
    "Якщо після агрегатної функції вказати ключове слово `FILTER` і помістити в дужках деяку умову `condition` після `WHERE`, то агрегатній функції на вхід будуть подані тільки ті рядки, для яких умова фільтра виявиться істинною.\n",
    "\n",
    "Загалом ця конструкція виглядає так:\n",
    "\n",
    "```sql\n",
    "SELECT agg_function(column) FILTER (WHERE condition)\n",
    "FROM table\n",
    "```\n",
    "\n",
    "Наприклад, якби ми захотіли порахувати середню ціну тільки для товарів категорії `'fish'`, то запит виглядав би так:\n",
    "\n",
    "```sql\n",
    "SELECT AVG(price) FILTER (WHERE category = 'fish') AS avg_fish_price\n",
    "FROM table\n",
    "```\n",
    "\n",
    "Зверніть увагу: це дуже схоже на звичайну фільтрацію з агрегацією, яку ми розглядали в попередніх завданнях, тільки в даному випадку умова відбору записів вказується відразу в блоці `SELECT`.\n",
    "\n",
    "Перевага такого запису в тому, що він дозволяє проводити розрахунки без проміжних запитів з умовами у блоці `WHERE`.\n",
    "\n",
    "Розглянемо ще один приклад.\n",
    "\n",
    "У нашому випадку досить зрозуміло, як порахувати загальну кількість користувачів. Також зрозуміло, як порахувати кількість користувачів, які хоча б раз скасовували замовлення — досить просто вказати потрібну умову в операторі `WHERE`. Але як у рамках одного запиту порахувати тих, хто ніколи не скасовував своє замовлення?\n",
    "\n",
    "Оскільки об'єднувати кілька запитів разом ми поки що не вміємо, нам допоможе прийти агрегатний вираз."
   ]
  },
  {
   "attachments": {},
   "cell_type": "markdown",
   "metadata": {},
   "source": [
    ":::: {.callout-note icon=false}\n",
    "## \n",
    "::: {#exr-sql-agg-16}\n",
    "<br>\n",
    "Порахуйте скільки користувачів ніколи не скасовували своє замовлення. Для цього із загальної кількості всіх унікальних користувачів відніміть кількість унікальних користувачів, які хоча б раз скасовували замовлення. Подумайте, яку умову необхідно вказати у `FILTER`, щоб отримати коректний результат.\n",
    "\n",
    "Отриманий стовпець назвіть `users_count`.\n",
    "\n",
    "Поле в результуючій таблиці: `users_count`\n",
    "\n",
    ":::\n",
    "::::"
   ]
  },
  {
   "cell_type": "code",
   "execution_count": 17,
   "metadata": {},
   "outputs": [
    {
     "data": {
      "text/html": [
       "<div>\n",
       "<style scoped>\n",
       "    .dataframe tbody tr th:only-of-type {\n",
       "        vertical-align: middle;\n",
       "    }\n",
       "\n",
       "    .dataframe tbody tr th {\n",
       "        vertical-align: top;\n",
       "    }\n",
       "\n",
       "    .dataframe thead th {\n",
       "        text-align: right;\n",
       "    }\n",
       "</style>\n",
       "<table border=\"1\" class=\"dataframe\">\n",
       "  <thead>\n",
       "    <tr style=\"text-align: right;\">\n",
       "      <th></th>\n",
       "      <th>users_count</th>\n",
       "    </tr>\n",
       "  </thead>\n",
       "  <tbody>\n",
       "  </tbody>\n",
       "</table>\n",
       "</div>"
      ],
      "text/plain": [
       "Empty DataFrame\n",
       "Columns: [users_count]\n",
       "Index: []"
      ]
     },
     "execution_count": 17,
     "metadata": {},
     "output_type": "execute_result"
    }
   ],
   "source": [
    "#| code-fold: true\n",
    "#| code-summary: \"Рішення\"\n",
    "\n",
    "%%sql\n",
    "-- Рішення через різницю\n",
    "SELECT count(distinct user_id) - count(distinct user_id) filter (WHERE action = 'cancel_order') as users_count\n",
    "FROM   user_actions\n",
    "\n",
    "-- Рішення через вкладений запит\n",
    "-- SELECT count(distinct user_id) filter (WHERE user_id not in (SELECT DISTINCT user_id\n",
    "--                                                              FROM   user_actions\n",
    "--                                                              WHERE  action = 'cancel_order')) as users_count\n",
    "-- FROM   user_actions"
   ]
  },
  {
   "attachments": {},
   "cell_type": "markdown",
   "metadata": {},
   "source": [
    "Давайте вирішимо ще одне завдання на агрегатні вирази з фільтрацією - цього разу з більш складними розрахунками."
   ]
  },
  {
   "attachments": {},
   "cell_type": "markdown",
   "metadata": {},
   "source": [
    ":::: {.callout-note icon=false}\n",
    "## \n",
    "::: {#exr-sql-agg-17}\n",
    "<br>\n",
    "Порахуйте:\n",
    "\n",
    "- загальну кількість замовлень у таблиці `orders`\n",
    "- кількість замовлень **із п'ятьма та більше товарами**\n",
    "- **частку замовлень із п'ятьма та більше товарами у загальній кількості замовлень**.\n",
    "\n",
    "У результуючій таблиці відобразіть усі три значення - поля назвіть відповідно `orders`, `large_orders`, `large_orders_share`.\n",
    "\n",
    "Частку замовлень із п'ятьма та більше товарами у загальній кількості товарів округліть до двох знаків після коми.\n",
    "\n",
    "Поля в результуючій таблиці: `orders`, `large_orders`, `large_orders_share`\n",
    "\n",
    "Пояснення: при розрахунку частки не забудьте хоча б одне із значень попередньо привести до типу `DECIMAL` (або домножити на `1.0`). Також пам'ятайте, що використовувати в розрахунках аліаси нових колонок не можна.\n",
    "\n",
    ":::\n",
    "::::"
   ]
  },
  {
   "cell_type": "code",
   "execution_count": 18,
   "metadata": {},
   "outputs": [
    {
     "data": {
      "text/html": [
       "<div>\n",
       "<style scoped>\n",
       "    .dataframe tbody tr th:only-of-type {\n",
       "        vertical-align: middle;\n",
       "    }\n",
       "\n",
       "    .dataframe tbody tr th {\n",
       "        vertical-align: top;\n",
       "    }\n",
       "\n",
       "    .dataframe thead th {\n",
       "        text-align: right;\n",
       "    }\n",
       "</style>\n",
       "<table border=\"1\" class=\"dataframe\">\n",
       "  <thead>\n",
       "    <tr style=\"text-align: right;\">\n",
       "      <th></th>\n",
       "      <th>orders</th>\n",
       "      <th>large_orders</th>\n",
       "      <th>large_orders_share</th>\n",
       "    </tr>\n",
       "  </thead>\n",
       "  <tbody>\n",
       "    <tr>\n",
       "      <th>0</th>\n",
       "      <td>59595</td>\n",
       "      <td>11498</td>\n",
       "      <td>0.19</td>\n",
       "    </tr>\n",
       "  </tbody>\n",
       "</table>\n",
       "</div>"
      ],
      "text/plain": [
       "   orders  large_orders  large_orders_share\n",
       "0   59595         11498                0.19"
      ]
     },
     "execution_count": 18,
     "metadata": {},
     "output_type": "execute_result"
    }
   ],
   "source": [
    "#| code-fold: true\n",
    "#| code-summary: \"Рішення\"\n",
    "\n",
    "%%sql\n",
    "SELECT count(distinct order_id) as orders,\n",
    "       count(distinct order_id) filter (WHERE array_length(product_ids, 1) >= 5) as large_orders,\n",
    "       round(count(distinct order_id) filter (WHERE array_length(product_ids, 1) >= 5)::decimal / count(distinct order_id),\n",
    "             2) as large_orders_share\n",
    "FROM   orders"
   ]
  }
 ],
 "metadata": {
  "kernelspec": {
   "display_name": "Python 3",
   "language": "python",
   "name": "python3"
  },
  "language_info": {
   "codemirror_mode": {
    "name": "ipython",
    "version": 3
   },
   "file_extension": ".py",
   "mimetype": "text/x-python",
   "name": "python",
   "nbconvert_exporter": "python",
   "pygments_lexer": "ipython3",
   "version": "3.11.4"
  }
 },
 "nbformat": 4,
 "nbformat_minor": 2
}
